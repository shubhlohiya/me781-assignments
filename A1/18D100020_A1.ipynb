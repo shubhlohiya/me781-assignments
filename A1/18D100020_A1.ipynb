{
 "cells": [
  {
   "cell_type": "markdown",
   "source": [
    "<h1 style='text-align: center; color: blue;'>ME 781: Assignment 1</h1>\n",
    "<h3 style='text-align: right; color: red;'>~ Shubham Lohiya, 18D100020</h3>"
   ],
   "metadata": {}
  },
  {
   "cell_type": "markdown",
   "source": [
    "## Question 1\r\n",
    "\r\n",
    "We have to write a function to generate prime numbers less than a given input. An efficient algorithm of doing this is the old and famous [**Sieve of Eratosthenes**](https://en.wikipedia.org/wiki/Sieve_of_Eratosthenes). If the name sounds familiar, you had a cool math teacher ;)\r\n",
    "\r\n",
    "The algorithm is fairly intuitive, and I've added comments in the code to guide the reader. You can also check out [this](https://www.youtube.com/watch?v=klcIklsWzrY) awesome explanation of the algorithm by [Khan Academy](https://www.khanacademy.org/)\r\n",
    "\r\n",
    "The function to implement this algorithm has been built from scratch, and avoids using any built-in functions. It is also capable of inferring input and handling errors in case of invalid inputs."
   ],
   "metadata": {}
  },
  {
   "cell_type": "code",
   "execution_count": 1,
   "source": [
    "ceil = lambda x: x if int(x) == x else int(x) + 1 # Define a number ceiling function\r\n",
    "\r\n",
    "def get_primenumbers(n):\r\n",
    "    \"\"\"Returns a list of prime numbers less than the given input using \\\r\n",
    "        the Sieve of Eratosthenes algorithm.\r\n",
    "\r\n",
    "    Args:\r\n",
    "        n (int, float, str): acts the the threshold below which all prime \\\r\n",
    "            numbers are to be found. It can be any data-type as long as it\r\n",
    "            is interpretable as a number\r\n",
    "\r\n",
    "    Returns:\r\n",
    "        list: list of primes less than n\r\n",
    "    \"\"\"\r\n",
    "    \r\n",
    "    if isinstance(n, str): # Reject if invalid str input is entered\r\n",
    "        try:\r\n",
    "            n = eval(n)\r\n",
    "        except:\r\n",
    "            print('You have entered wrong input')\r\n",
    "            return\r\n",
    "        \r\n",
    "    if not isinstance(n, (int, float)) or n < 0: # Reject invalid input\r\n",
    "        print('You have entered wrong input')\r\n",
    "        return\r\n",
    "\r\n",
    "    n = ceil(n) # To handle float inputs\r\n",
    "\r\n",
    "    # We assume all numbers from 2 to n as prime, and then we eliminate them\r\n",
    "    # as candidates if we find factors for them in our checking process.\r\n",
    "    prime_check = {i: True for i in range(2, n)}\r\n",
    "\r\n",
    "    k = 2 # first prime number candidate\r\n",
    "    while k**2 < n:\r\n",
    "        if prime_check[k]:\r\n",
    "            for i in range(k**2, n, k):\r\n",
    "                prime_check[i] = False\r\n",
    "        k += 1\r\n",
    "    \r\n",
    "    primes = [i for i, isprime in prime_check.items() if isprime]\r\n",
    "    return primes"
   ],
   "outputs": [],
   "metadata": {}
  },
  {
   "cell_type": "markdown",
   "source": [
    "### Testing function on given test cases:"
   ],
   "metadata": {}
  },
  {
   "cell_type": "code",
   "execution_count": 2,
   "source": [
    "def print_primes(n):\r\n",
    "    print(f'Input: {n} (type: {type(n)})\\nOutput: ', end=\"\")\r\n",
    "    primes = get_primenumbers(n)\r\n",
    "    if primes is not None:\r\n",
    "        print(primes)\r\n",
    "    print()"
   ],
   "outputs": [],
   "metadata": {}
  },
  {
   "cell_type": "code",
   "execution_count": 3,
   "source": [
    "print_primes(9)\r\n",
    "print_primes('9')\r\n",
    "print_primes('xyz')\r\n",
    "print_primes(7.2)\r\n",
    "print_primes(3)\r\n",
    "print_primes(-1)"
   ],
   "outputs": [
    {
     "output_type": "stream",
     "name": "stdout",
     "text": [
      "Input: 9 (type: <class 'int'>)\n",
      "Output: [2, 3, 5, 7]\n",
      "\n",
      "Input: 9 (type: <class 'str'>)\n",
      "Output: [2, 3, 5, 7]\n",
      "\n",
      "Input: xyz (type: <class 'str'>)\n",
      "Output: You have entered wrong input\n",
      "\n",
      "Input: 7.2 (type: <class 'float'>)\n",
      "Output: [2, 3, 5, 7]\n",
      "\n",
      "Input: 3 (type: <class 'int'>)\n",
      "Output: [2]\n",
      "\n",
      "Input: -1 (type: <class 'int'>)\n",
      "Output: You have entered wrong input\n",
      "\n"
     ]
    }
   ],
   "metadata": {}
  },
  {
   "cell_type": "markdown",
   "source": [
    "**As seen above, the ouputs match our expectations and all testcases have been passed!**"
   ],
   "metadata": {}
  },
  {
   "cell_type": "markdown",
   "source": [
    "<br><br>\n",
    "___\n",
    "<br><br>"
   ],
   "metadata": {}
  },
  {
   "cell_type": "markdown",
   "source": [
    "## Question 2\r\n",
    "\r\n",
    "Our mission is to solve the infamous [Tower of Hanoi](https://en.wikipedia.org/wiki/Tower_of_Hanoi) mathematical puzzle in $2^n-1$ steps only.\r\n",
    "\r\n",
    "I have coded below a recursive algorithm to accomplish the task."
   ],
   "metadata": {}
  },
  {
   "cell_type": "code",
   "execution_count": 1,
   "source": [
    "def tower_of_hanoi(n):\r\n",
    "    \"\"\"Solves the Tower of Hanoi problem of size n.\"\"\"\r\n",
    "    \r\n",
    "    if not (isinstance(n, int) and n > 0): # Checking if input follows problem constraints.\r\n",
    "        raise ValueError(\"Invalid n entered. n must be a natural number.\")\r\n",
    "    \r\n",
    "    step = 0\r\n",
    "    A, B, C = list(range(n, 0, -1)), [], [] # Generate towers\r\n",
    "    print(f\"Initial Condition = {A} {B} {C}\")\r\n",
    "\r\n",
    "    def tower_of_hanoi_solve(n, X, Y, Z):\r\n",
    "        \"\"\"Recursive function to solve tower of hanoi. Moves n rings from \\\r\n",
    "            tower X to tower Y using tower Z as auxiliary.\r\n",
    "\r\n",
    "        Args:\r\n",
    "            n (int): highest diameter still at source\r\n",
    "            X (list): source tower\r\n",
    "            Y (list): destination tower\r\n",
    "            Z (list): auxiliary tower\r\n",
    "            step (int): step count\r\n",
    "        \"\"\"\r\n",
    "        nonlocal step # to be able to change step from nested function\r\n",
    "        if n == 1:\r\n",
    "            Y.append(X.pop())\r\n",
    "            step +=1\r\n",
    "            print(f\"Step {step} = {A} {B} {C}\")\r\n",
    "            return\r\n",
    "        tower_of_hanoi_solve(n-1, X, Z, Y)\r\n",
    "        tower_of_hanoi_solve(1, X, Y, Z)\r\n",
    "        tower_of_hanoi_solve(n-1, Z, Y, X)\r\n",
    "    \r\n",
    "    tower_of_hanoi_solve(n, A, B, C)"
   ],
   "outputs": [],
   "metadata": {}
  },
  {
   "cell_type": "markdown",
   "source": [
    "**Let's solve the problems of size 3 and 4!**"
   ],
   "metadata": {}
  },
  {
   "cell_type": "code",
   "execution_count": 2,
   "source": [
    "tower_of_hanoi(3)"
   ],
   "outputs": [
    {
     "output_type": "stream",
     "name": "stdout",
     "text": [
      "Initial Condition = [3, 2, 1] [] []\n",
      "Step 1 = [3, 2] [1] []\n",
      "Step 2 = [3] [1] [2]\n",
      "Step 3 = [3] [] [2, 1]\n",
      "Step 4 = [] [3] [2, 1]\n",
      "Step 5 = [1] [3] [2]\n",
      "Step 6 = [1] [3, 2] []\n",
      "Step 7 = [] [3, 2, 1] []\n"
     ]
    }
   ],
   "metadata": {}
  },
  {
   "cell_type": "code",
   "execution_count": 3,
   "source": [
    "tower_of_hanoi(4)"
   ],
   "outputs": [
    {
     "output_type": "stream",
     "name": "stdout",
     "text": [
      "Initial Condition = [4, 3, 2, 1] [] []\n",
      "Step 1 = [4, 3, 2] [] [1]\n",
      "Step 2 = [4, 3] [2] [1]\n",
      "Step 3 = [4, 3] [2, 1] []\n",
      "Step 4 = [4] [2, 1] [3]\n",
      "Step 5 = [4, 1] [2] [3]\n",
      "Step 6 = [4, 1] [] [3, 2]\n",
      "Step 7 = [4] [] [3, 2, 1]\n",
      "Step 8 = [] [4] [3, 2, 1]\n",
      "Step 9 = [] [4, 1] [3, 2]\n",
      "Step 10 = [2] [4, 1] [3]\n",
      "Step 11 = [2, 1] [4] [3]\n",
      "Step 12 = [2, 1] [4, 3] []\n",
      "Step 13 = [2] [4, 3] [1]\n",
      "Step 14 = [] [4, 3, 2] [1]\n",
      "Step 15 = [] [4, 3, 2, 1] []\n"
     ]
    }
   ],
   "metadata": {}
  },
  {
   "cell_type": "markdown",
   "source": [
    "**Yay we have done it again! We have conquered the Towers of Hanoi and we did it in only $2^n-1$ steps. Awesome!**"
   ],
   "metadata": {}
  }
 ],
 "metadata": {
  "kernelspec": {
   "name": "python3",
   "display_name": "Python 3.7.6 64-bit ('base': conda)"
  },
  "language_info": {
   "codemirror_mode": {
    "name": "ipython",
    "version": 3
   },
   "file_extension": ".py",
   "mimetype": "text/x-python",
   "name": "python",
   "nbconvert_exporter": "python",
   "pygments_lexer": "ipython3",
   "version": "3.7.6"
  },
  "interpreter": {
   "hash": "b3ba2566441a7c06988d0923437866b63cedc61552a5af99d1f4fb67d367b25f"
  }
 },
 "nbformat": 4,
 "nbformat_minor": 4
}